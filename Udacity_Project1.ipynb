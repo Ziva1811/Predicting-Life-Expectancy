{
  "nbformat": 4,
  "nbformat_minor": 0,
  "metadata": {
    "colab": {
      "name": "Udacity Project1",
      "provenance": [],
      "collapsed_sections": []
    },
    "kernelspec": {
      "name": "python3",
      "display_name": "Python 3"
    }
  },
  "cells": [
    {
      "cell_type": "markdown",
      "metadata": {
        "id": "UU47At5tq2GQ",
        "colab_type": "text"
      },
      "source": [
        "# **Life Expantancy**\n",
        "\n",
        "<p>The data is collected from Kaggle-> <a> https://www.kaggle.com/kumarajarshi/life-expectancy-who </a></p>\n",
        "\n",
        "<p>This dataset is comprised of data from all over the world from various countries aggregated by the World Health Organization (WHO for short). The data is an aggregate of many indicators for a particular country in a particular year. In essence, the data is multiple indicators in a time series separated by country. </p>\n",
        "\n",
        "<h5><b>Questions that will be answered in this project:</b></h5>\n",
        "<ol>\n",
        "<li> What are the predicting variables actually affecting the life expectancy?</li>\n",
        "<li> How does Infant and Adult mortality rates affect life expectancy?</li>\n",
        "<li> What is the impact of schooling on the lifespan of humans?</li>\n",
        "<li> Is there any difference between the life expectancy of Develped and Developing countries?</li>\n",
        "<li> Build a model to predict the Life Expectancy.</li>\n",
        "</p>\n"
      ]
    },
    {
      "cell_type": "markdown",
      "metadata": {
        "id": "Vob8NxUWiAsa",
        "colab_type": "text"
      },
      "source": [
        "Importing libraries and reading data set"
      ]
    },
    {
      "cell_type": "code",
      "metadata": {
        "id": "b0TMJ0byqPpI",
        "colab_type": "code",
        "outputId": "83502706-a2e4-4ef3-8fa0-2d62cc174e1d",
        "colab": {
          "base_uri": "https://localhost:8080/",
          "height": 50
        }
      },
      "source": [
        "import numpy as np\n",
        "import pandas as pd\n",
        "import matplotlib.pyplot as plt\n",
        "import seaborn as sns\n",
        "from sklearn.linear_model import LinearRegression\n",
        "from sklearn.model_selection import train_test_split\n",
        "from sklearn.metrics import r2_score, mean_squared_error\n",
        "%matplotlib inline"
      ],
      "execution_count": 0,
      "outputs": [
        {
          "output_type": "stream",
          "text": [
            "/usr/local/lib/python3.6/dist-packages/statsmodels/tools/_testing.py:19: FutureWarning: pandas.util.testing is deprecated. Use the functions in the public API at pandas.testing instead.\n",
            "  import pandas.util.testing as tm\n"
          ],
          "name": "stderr"
        }
      ]
    },
    {
      "cell_type": "markdown",
      "metadata": {
        "id": "TG3hYgXDqrwk",
        "colab_type": "text"
      },
      "source": [
        ""
      ]
    },
    {
      "cell_type": "code",
      "metadata": {
        "id": "Et2UfmuOqpn1",
        "colab_type": "code",
        "outputId": "7c4c37bb-bc47-4ea9-c63c-696eb6070a8e",
        "colab": {
          "base_uri": "https://localhost:8080/",
          "height": 260
        }
      },
      "source": [
        "# Reading the file from github\n",
        "url= 'https://raw.githubusercontent.com/Ziva1811/Data-Science-Projects/master/Project1/Life%20Expectancy%20Data.csv'\n",
        "df=pd.read_csv(url)\n",
        "df.head()"
      ],
      "execution_count": 0,
      "outputs": [
        {
          "output_type": "execute_result",
          "data": {
            "text/html": [
              "<div>\n",
              "<style scoped>\n",
              "    .dataframe tbody tr th:only-of-type {\n",
              "        vertical-align: middle;\n",
              "    }\n",
              "\n",
              "    .dataframe tbody tr th {\n",
              "        vertical-align: top;\n",
              "    }\n",
              "\n",
              "    .dataframe thead th {\n",
              "        text-align: right;\n",
              "    }\n",
              "</style>\n",
              "<table border=\"1\" class=\"dataframe\">\n",
              "  <thead>\n",
              "    <tr style=\"text-align: right;\">\n",
              "      <th></th>\n",
              "      <th>Country</th>\n",
              "      <th>Year</th>\n",
              "      <th>Status</th>\n",
              "      <th>Life expectancy</th>\n",
              "      <th>Adult Mortality</th>\n",
              "      <th>infant deaths</th>\n",
              "      <th>Alcohol</th>\n",
              "      <th>percentage expenditure</th>\n",
              "      <th>Hepatitis B</th>\n",
              "      <th>Measles</th>\n",
              "      <th>BMI</th>\n",
              "      <th>under-five deaths</th>\n",
              "      <th>Polio</th>\n",
              "      <th>Total expenditure</th>\n",
              "      <th>Diphtheria</th>\n",
              "      <th>HIV/AIDS</th>\n",
              "      <th>GDP</th>\n",
              "      <th>Population</th>\n",
              "      <th>thinness  1-19 years</th>\n",
              "      <th>thinness 5-9 years</th>\n",
              "      <th>Income composition of resources</th>\n",
              "      <th>Schooling</th>\n",
              "    </tr>\n",
              "  </thead>\n",
              "  <tbody>\n",
              "    <tr>\n",
              "      <th>0</th>\n",
              "      <td>Afghanistan</td>\n",
              "      <td>2015</td>\n",
              "      <td>Developing</td>\n",
              "      <td>65.0</td>\n",
              "      <td>263.0</td>\n",
              "      <td>62</td>\n",
              "      <td>0.01</td>\n",
              "      <td>71.279624</td>\n",
              "      <td>65.0</td>\n",
              "      <td>1154</td>\n",
              "      <td>19.1</td>\n",
              "      <td>83</td>\n",
              "      <td>6.0</td>\n",
              "      <td>8.16</td>\n",
              "      <td>65.0</td>\n",
              "      <td>0.1</td>\n",
              "      <td>584.259210</td>\n",
              "      <td>33736494.0</td>\n",
              "      <td>17.2</td>\n",
              "      <td>17.3</td>\n",
              "      <td>0.479</td>\n",
              "      <td>10.1</td>\n",
              "    </tr>\n",
              "    <tr>\n",
              "      <th>1</th>\n",
              "      <td>Afghanistan</td>\n",
              "      <td>2014</td>\n",
              "      <td>Developing</td>\n",
              "      <td>59.9</td>\n",
              "      <td>271.0</td>\n",
              "      <td>64</td>\n",
              "      <td>0.01</td>\n",
              "      <td>73.523582</td>\n",
              "      <td>62.0</td>\n",
              "      <td>492</td>\n",
              "      <td>18.6</td>\n",
              "      <td>86</td>\n",
              "      <td>58.0</td>\n",
              "      <td>8.18</td>\n",
              "      <td>62.0</td>\n",
              "      <td>0.1</td>\n",
              "      <td>612.696514</td>\n",
              "      <td>327582.0</td>\n",
              "      <td>17.5</td>\n",
              "      <td>17.5</td>\n",
              "      <td>0.476</td>\n",
              "      <td>10.0</td>\n",
              "    </tr>\n",
              "    <tr>\n",
              "      <th>2</th>\n",
              "      <td>Afghanistan</td>\n",
              "      <td>2013</td>\n",
              "      <td>Developing</td>\n",
              "      <td>59.9</td>\n",
              "      <td>268.0</td>\n",
              "      <td>66</td>\n",
              "      <td>0.01</td>\n",
              "      <td>73.219243</td>\n",
              "      <td>64.0</td>\n",
              "      <td>430</td>\n",
              "      <td>18.1</td>\n",
              "      <td>89</td>\n",
              "      <td>62.0</td>\n",
              "      <td>8.13</td>\n",
              "      <td>64.0</td>\n",
              "      <td>0.1</td>\n",
              "      <td>631.744976</td>\n",
              "      <td>31731688.0</td>\n",
              "      <td>17.7</td>\n",
              "      <td>17.7</td>\n",
              "      <td>0.470</td>\n",
              "      <td>9.9</td>\n",
              "    </tr>\n",
              "    <tr>\n",
              "      <th>3</th>\n",
              "      <td>Afghanistan</td>\n",
              "      <td>2012</td>\n",
              "      <td>Developing</td>\n",
              "      <td>59.5</td>\n",
              "      <td>272.0</td>\n",
              "      <td>69</td>\n",
              "      <td>0.01</td>\n",
              "      <td>78.184215</td>\n",
              "      <td>67.0</td>\n",
              "      <td>2787</td>\n",
              "      <td>17.6</td>\n",
              "      <td>93</td>\n",
              "      <td>67.0</td>\n",
              "      <td>8.52</td>\n",
              "      <td>67.0</td>\n",
              "      <td>0.1</td>\n",
              "      <td>669.959000</td>\n",
              "      <td>3696958.0</td>\n",
              "      <td>17.9</td>\n",
              "      <td>18.0</td>\n",
              "      <td>0.463</td>\n",
              "      <td>9.8</td>\n",
              "    </tr>\n",
              "    <tr>\n",
              "      <th>4</th>\n",
              "      <td>Afghanistan</td>\n",
              "      <td>2011</td>\n",
              "      <td>Developing</td>\n",
              "      <td>59.2</td>\n",
              "      <td>275.0</td>\n",
              "      <td>71</td>\n",
              "      <td>0.01</td>\n",
              "      <td>7.097109</td>\n",
              "      <td>68.0</td>\n",
              "      <td>3013</td>\n",
              "      <td>17.2</td>\n",
              "      <td>97</td>\n",
              "      <td>68.0</td>\n",
              "      <td>7.87</td>\n",
              "      <td>68.0</td>\n",
              "      <td>0.1</td>\n",
              "      <td>63.537231</td>\n",
              "      <td>2978599.0</td>\n",
              "      <td>18.2</td>\n",
              "      <td>18.2</td>\n",
              "      <td>0.454</td>\n",
              "      <td>9.5</td>\n",
              "    </tr>\n",
              "  </tbody>\n",
              "</table>\n",
              "</div>"
            ],
            "text/plain": [
              "       Country  Year  ... Income composition of resources  Schooling\n",
              "0  Afghanistan  2015  ...                           0.479       10.1\n",
              "1  Afghanistan  2014  ...                           0.476       10.0\n",
              "2  Afghanistan  2013  ...                           0.470        9.9\n",
              "3  Afghanistan  2012  ...                           0.463        9.8\n",
              "4  Afghanistan  2011  ...                           0.454        9.5\n",
              "\n",
              "[5 rows x 22 columns]"
            ]
          },
          "metadata": {
            "tags": []
          },
          "execution_count": 2
        }
      ]
    },
    {
      "cell_type": "markdown",
      "metadata": {
        "id": "Gqf6y8Qlwfu7",
        "colab_type": "text"
      },
      "source": [
        ""
      ]
    },
    {
      "cell_type": "code",
      "metadata": {
        "id": "BLW6C3bBwpoK",
        "colab_type": "code",
        "outputId": "b28ddf3a-f7c7-4718-8043-c4184c452bd2",
        "colab": {
          "base_uri": "https://localhost:8080/",
          "height": 34
        }
      },
      "source": [
        "df.shape"
      ],
      "execution_count": 0,
      "outputs": [
        {
          "output_type": "execute_result",
          "data": {
            "text/plain": [
              "(2938, 22)"
            ]
          },
          "metadata": {
            "tags": []
          },
          "execution_count": 34
        }
      ]
    },
    {
      "cell_type": "markdown",
      "metadata": {
        "id": "4aP6BtUTkED3",
        "colab_type": "text"
      },
      "source": [
        "<h2><b>Data Preparation</b></h2> \n"
      ]
    },
    {
      "cell_type": "markdown",
      "metadata": {
        "id": "oQUvI-FGiie8",
        "colab_type": "text"
      },
      "source": [
        "Before moving further, the string values for the columns/variables themselves are not very 'clean' so the following is a quick cleaning of the column/variable titles.\n",
        "\n",
        "\n",
        "\n",
        "\n"
      ]
    },
    {
      "cell_type": "code",
      "metadata": {
        "id": "e4oVEr4wr3My",
        "colab_type": "code",
        "outputId": "bf307d48-2360-49be-c4f2-493b444143b6",
        "colab": {
          "base_uri": "https://localhost:8080/",
          "height": 115
        }
      },
      "source": [
        "new_cols=[]\n",
        "for col in df.columns:\n",
        "  new_cols.append(col.strip().replace('  ',' ').replace(' ','_').lower())\n",
        "df.columns=new_cols\n",
        "\n",
        "df.columns"
      ],
      "execution_count": 0,
      "outputs": [
        {
          "output_type": "execute_result",
          "data": {
            "text/plain": [
              "Index(['country', 'year', 'status', 'life_expectancy', 'adult_mortality',\n",
              "       'infant_deaths', 'alcohol', 'percentage_expenditure', 'hepatitis_b',\n",
              "       'measles', 'bmi', 'under-five_deaths', 'polio', 'total_expenditure',\n",
              "       'diphtheria', 'hiv/aids', 'gdp', 'population', 'thinness_1-19_years',\n",
              "       'thinness_5-9_years', 'income_composition_of_resources', 'schooling'],\n",
              "      dtype='object')"
            ]
          },
          "metadata": {
            "tags": []
          },
          "execution_count": 3
        }
      ]
    },
    {
      "cell_type": "markdown",
      "metadata": {
        "id": "oUJ7jutgklDP",
        "colab_type": "text"
      },
      "source": [
        "<h3>Handling Missing Values</h3>\n",
        "\n",
        "There are few things that must be done concerning missing values:\n",
        "\n",
        "1.   Detection of missing values\n",
        "2.   Dealing with missing values(drop/impute)\n",
        "\n",
        "\n",
        "\n",
        "\n"
      ]
    },
    {
      "cell_type": "code",
      "metadata": {
        "id": "LucY-Ak8r3T4",
        "colab_type": "code",
        "outputId": "9b0670fd-ba4c-457a-8662-38d80c1f33ee",
        "colab": {
          "base_uri": "https://localhost:8080/",
          "height": 332
        }
      },
      "source": [
        "df.describe().iloc[:,1:]"
      ],
      "execution_count": 0,
      "outputs": [
        {
          "output_type": "execute_result",
          "data": {
            "text/html": [
              "<div>\n",
              "<style scoped>\n",
              "    .dataframe tbody tr th:only-of-type {\n",
              "        vertical-align: middle;\n",
              "    }\n",
              "\n",
              "    .dataframe tbody tr th {\n",
              "        vertical-align: top;\n",
              "    }\n",
              "\n",
              "    .dataframe thead th {\n",
              "        text-align: right;\n",
              "    }\n",
              "</style>\n",
              "<table border=\"1\" class=\"dataframe\">\n",
              "  <thead>\n",
              "    <tr style=\"text-align: right;\">\n",
              "      <th></th>\n",
              "      <th>life_expectancy</th>\n",
              "      <th>adult_mortality</th>\n",
              "      <th>infant_deaths</th>\n",
              "      <th>alcohol</th>\n",
              "      <th>percentage_expenditure</th>\n",
              "      <th>hepatitis_b</th>\n",
              "      <th>measles</th>\n",
              "      <th>under-five_deaths</th>\n",
              "      <th>polio</th>\n",
              "      <th>total_expenditure</th>\n",
              "      <th>diphtheria</th>\n",
              "      <th>hiv/aids</th>\n",
              "      <th>gdp</th>\n",
              "      <th>population</th>\n",
              "      <th>thinness_1-19_years</th>\n",
              "      <th>thinness_5-9_years</th>\n",
              "      <th>income_composition_of_resources</th>\n",
              "      <th>schooling</th>\n",
              "    </tr>\n",
              "  </thead>\n",
              "  <tbody>\n",
              "    <tr>\n",
              "      <th>count</th>\n",
              "      <td>2938.000000</td>\n",
              "      <td>2938.000000</td>\n",
              "      <td>2938.000000</td>\n",
              "      <td>2938.000000</td>\n",
              "      <td>2938.000000</td>\n",
              "      <td>2938.000000</td>\n",
              "      <td>2938.000000</td>\n",
              "      <td>2938.000000</td>\n",
              "      <td>2938.000000</td>\n",
              "      <td>2938.000000</td>\n",
              "      <td>2938.000000</td>\n",
              "      <td>2938.000000</td>\n",
              "      <td>2938.000000</td>\n",
              "      <td>2.938000e+03</td>\n",
              "      <td>2938.000000</td>\n",
              "      <td>2938.000000</td>\n",
              "      <td>2938.000000</td>\n",
              "      <td>2938.000000</td>\n",
              "    </tr>\n",
              "    <tr>\n",
              "      <th>mean</th>\n",
              "      <td>69.248795</td>\n",
              "      <td>169.191269</td>\n",
              "      <td>28.607323</td>\n",
              "      <td>4.640667</td>\n",
              "      <td>281.501093</td>\n",
              "      <td>83.671293</td>\n",
              "      <td>220.691287</td>\n",
              "      <td>38.640545</td>\n",
              "      <td>85.514684</td>\n",
              "      <td>5.972192</td>\n",
              "      <td>85.469564</td>\n",
              "      <td>0.526991</td>\n",
              "      <td>5033.943592</td>\n",
              "      <td>7.508368e+06</td>\n",
              "      <td>4.703351</td>\n",
              "      <td>4.720470</td>\n",
              "      <td>0.640659</td>\n",
              "      <td>12.049874</td>\n",
              "    </tr>\n",
              "    <tr>\n",
              "      <th>std</th>\n",
              "      <td>9.462136</td>\n",
              "      <td>107.646049</td>\n",
              "      <td>25.699534</td>\n",
              "      <td>3.910036</td>\n",
              "      <td>384.161450</td>\n",
              "      <td>13.848933</td>\n",
              "      <td>329.192321</td>\n",
              "      <td>37.732345</td>\n",
              "      <td>15.270927</td>\n",
              "      <td>2.302224</td>\n",
              "      <td>15.217611</td>\n",
              "      <td>0.675962</td>\n",
              "      <td>5408.511820</td>\n",
              "      <td>8.646842e+06</td>\n",
              "      <td>3.925702</td>\n",
              "      <td>3.964268</td>\n",
              "      <td>0.171622</td>\n",
              "      <td>3.085673</td>\n",
              "    </tr>\n",
              "    <tr>\n",
              "      <th>min</th>\n",
              "      <td>45.600000</td>\n",
              "      <td>13.000000</td>\n",
              "      <td>1.000000</td>\n",
              "      <td>0.010000</td>\n",
              "      <td>0.000000</td>\n",
              "      <td>55.000000</td>\n",
              "      <td>0.000000</td>\n",
              "      <td>1.000000</td>\n",
              "      <td>52.000000</td>\n",
              "      <td>0.370000</td>\n",
              "      <td>52.000000</td>\n",
              "      <td>0.100000</td>\n",
              "      <td>1.681350</td>\n",
              "      <td>3.400000e+01</td>\n",
              "      <td>0.100000</td>\n",
              "      <td>0.100000</td>\n",
              "      <td>0.291000</td>\n",
              "      <td>4.900000</td>\n",
              "    </tr>\n",
              "    <tr>\n",
              "      <th>25%</th>\n",
              "      <td>63.200000</td>\n",
              "      <td>84.000000</td>\n",
              "      <td>4.000000</td>\n",
              "      <td>1.092500</td>\n",
              "      <td>4.685343</td>\n",
              "      <td>74.099237</td>\n",
              "      <td>0.000000</td>\n",
              "      <td>4.000000</td>\n",
              "      <td>78.000000</td>\n",
              "      <td>4.370000</td>\n",
              "      <td>78.000000</td>\n",
              "      <td>0.100000</td>\n",
              "      <td>580.486996</td>\n",
              "      <td>4.189172e+05</td>\n",
              "      <td>1.600000</td>\n",
              "      <td>1.600000</td>\n",
              "      <td>0.504250</td>\n",
              "      <td>10.300000</td>\n",
              "    </tr>\n",
              "    <tr>\n",
              "      <th>50%</th>\n",
              "      <td>72.000000</td>\n",
              "      <td>157.000000</td>\n",
              "      <td>28.000000</td>\n",
              "      <td>4.140000</td>\n",
              "      <td>64.912906</td>\n",
              "      <td>87.000000</td>\n",
              "      <td>17.000000</td>\n",
              "      <td>34.000000</td>\n",
              "      <td>93.000000</td>\n",
              "      <td>5.910000</td>\n",
              "      <td>93.000000</td>\n",
              "      <td>0.100000</td>\n",
              "      <td>3116.561755</td>\n",
              "      <td>3.675929e+06</td>\n",
              "      <td>3.400000</td>\n",
              "      <td>3.400000</td>\n",
              "      <td>0.673000</td>\n",
              "      <td>12.300000</td>\n",
              "    </tr>\n",
              "    <tr>\n",
              "      <th>75%</th>\n",
              "      <td>75.600000</td>\n",
              "      <td>227.000000</td>\n",
              "      <td>43.766917</td>\n",
              "      <td>7.390000</td>\n",
              "      <td>441.534144</td>\n",
              "      <td>96.000000</td>\n",
              "      <td>360.250000</td>\n",
              "      <td>60.014815</td>\n",
              "      <td>97.000000</td>\n",
              "      <td>7.330000</td>\n",
              "      <td>97.000000</td>\n",
              "      <td>0.800000</td>\n",
              "      <td>7464.487887</td>\n",
              "      <td>1.181332e+07</td>\n",
              "      <td>7.100000</td>\n",
              "      <td>7.200000</td>\n",
              "      <td>0.772000</td>\n",
              "      <td>14.100000</td>\n",
              "    </tr>\n",
              "    <tr>\n",
              "      <th>max</th>\n",
              "      <td>89.000000</td>\n",
              "      <td>428.000000</td>\n",
              "      <td>95.000000</td>\n",
              "      <td>15.140000</td>\n",
              "      <td>1077.712092</td>\n",
              "      <td>99.000000</td>\n",
              "      <td>831.000000</td>\n",
              "      <td>138.000000</td>\n",
              "      <td>99.000000</td>\n",
              "      <td>11.660000</td>\n",
              "      <td>99.000000</td>\n",
              "      <td>1.800000</td>\n",
              "      <td>16784.346160</td>\n",
              "      <td>2.865628e+07</td>\n",
              "      <td>15.300000</td>\n",
              "      <td>15.500000</td>\n",
              "      <td>0.948000</td>\n",
              "      <td>19.500000</td>\n",
              "    </tr>\n",
              "  </tbody>\n",
              "</table>\n",
              "</div>"
            ],
            "text/plain": [
              "       life_expectancy  ...    schooling\n",
              "count      2938.000000  ...  2938.000000\n",
              "mean         69.248795  ...    12.049874\n",
              "std           9.462136  ...     3.085673\n",
              "min          45.600000  ...     4.900000\n",
              "25%          63.200000  ...    10.300000\n",
              "50%          72.000000  ...    12.300000\n",
              "75%          75.600000  ...    14.100000\n",
              "max          89.000000  ...    19.500000\n",
              "\n",
              "[8 rows x 18 columns]"
            ]
          },
          "metadata": {
            "tags": []
          },
          "execution_count": 53
        }
      ]
    },
    {
      "cell_type": "markdown",
      "metadata": {
        "id": "lTLRfSzolORH",
        "colab_type": "text"
      },
      "source": [
        "Some of things that may not make sense from above:\n",
        "\n",
        "\n",
        "\n",
        "*  Adult mortality of 1? This is likely an error in measurement, but what values make sense here? May need to change to null if under a certain threshold.\n",
        "\n",
        "* Infant deaths as low as 0 per 1000? That just isn't plausible - I'm deeming those values to actually be null. Also on the other end 1800 is likely an outlier, but it is possible in a country with very high birthrates and perhaps a not very high population total - this can be dealt with later.\n",
        "\n",
        "*  BMI of 1 and 87.3? Pretty sure the whole population would not exist if that were the case. A BMI of 15 or lower is seriously underweight and a BMI of 40 or higher is morbidly obese, therefore a large number of these measurements just seem unrealistic...this variable might not be worth digging into at all.\n",
        "*  Under Five Deaths, similar to infant deaths just isn't likely (perhaps even impossible) to have values at zero.\n",
        "\n",
        "* GDP per capita as low as 1.68 (USD) possible? Doubtful - but perhaps the values may be outliers.\n",
        "\n",
        "\n",
        "\n",
        "*  Population of 34 for an entire country?\n",
        "\n",
        "\n",
        "\n",
        "\n",
        "\n",
        "\n",
        "\n"
      ]
    },
    {
      "cell_type": "markdown",
      "metadata": {
        "id": "emdHpoqXw9Yl",
        "colab_type": "text"
      },
      "source": [
        "<p> Understanding more through boxplots </p>"
      ]
    },
    {
      "cell_type": "code",
      "metadata": {
        "id": "7IQcul4xqp1x",
        "colab_type": "code",
        "outputId": "25b5e082-6d76-4ad9-a77c-2786044773ef",
        "colab": {
          "base_uri": "https://localhost:8080/",
          "height": 592
        }
      },
      "source": [
        "plt.figure(figsize=(15,10))\n",
        "for i, col in enumerate(['adult_mortality', 'infant_deaths', 'bmi', 'under-five_deaths', 'gdp', 'population'], start=1):\n",
        "    plt.subplot(2, 3, i)\n",
        "    df.boxplot(col)"
      ],
      "execution_count": 0,
      "outputs": [
        {
          "output_type": "display_data",
          "data": {
            "image/png": "[encoded data removed]",
            "text/plain": [
              "<Figure size 1080x720 with 6 Axes>"
            ]
          },
          "metadata": {
            "tags": []
          }
        }
      ]
    },
    {
      "cell_type": "markdown",
      "metadata": {
        "id": "2wyae5hrmjtm",
        "colab_type": "text"
      },
      "source": [
        "There are a few of the above that could simply be outliers, but there are some that almost certainly have to be errors of some sort. Of the above variables, changes to null will be made for the following since these numbers don't make any sense:\n",
        "\n",
        "\n",
        "*   Adult mortality rates lower than the 5th percentile\n",
        "\n",
        "*   Infant deaths of 0 item\n",
        "\n",
        "*   BMI less than 10 and greater than 50\n",
        "\n",
        "\n",
        "*   Under Five deaths of 0ist item\n",
        "\n",
        "\n",
        "\n",
        "\n",
        "\n",
        "\n",
        "\n",
        "\n",
        "\n",
        "\n",
        "\n",
        "\n",
        "\n"
      ]
    },
    {
      "cell_type": "code",
      "metadata": {
        "id": "RZdyH197qp7N",
        "colab_type": "code",
        "colab": {}
      },
      "source": [
        "mort_5_percentile = np.percentile(df.adult_mortality.dropna(), 5)   \n",
        "df.adult_mortality= df.apply(lambda x: np.nan if x.adult_mortality < mort_5_percentile else x.adult_mortality, axis=1)"
      ],
      "execution_count": 0,
      "outputs": []
    },
    {
      "cell_type": "markdown",
      "metadata": {
        "id": "Quc4O5zyXWio",
        "colab_type": "text"
      },
      "source": [
        ""
      ]
    },
    {
      "cell_type": "code",
      "metadata": {
        "id": "6JIpM_xNqqC9",
        "colab_type": "code",
        "colab": {}
      },
      "source": [
        "df['infant_deaths']= df['infant_deaths'].replace(0,np.nan)"
      ],
      "execution_count": 0,
      "outputs": []
    },
    {
      "cell_type": "code",
      "metadata": {
        "id": "C8oGmAa8qqMk",
        "colab_type": "code",
        "colab": {}
      },
      "source": [
        "df.bmi=df.apply(lambda x: np.nan if (x.bmi < 10 or x.bmi >50) else x.bmi, axis=1)"
      ],
      "execution_count": 0,
      "outputs": []
    },
    {
      "cell_type": "code",
      "metadata": {
        "id": "vwgf9kQVqqSx",
        "colab_type": "code",
        "colab": {}
      },
      "source": [
        "df['under-five_deaths']= df['under-five_deaths'].replace(0,np.nan)"
      ],
      "execution_count": 0,
      "outputs": []
    },
    {
      "cell_type": "markdown",
      "metadata": {
        "id": "4DVVhwFKnkJN",
        "colab_type": "text"
      },
      "source": [
        "Checking % of null values in each column of the data"
      ]
    },
    {
      "cell_type": "code",
      "metadata": {
        "id": "JkvsIM_nqqfw",
        "colab_type": "code",
        "outputId": "f69ed346-2306-45e5-cd49-6626a3fe432a",
        "colab": {
          "base_uri": "https://localhost:8080/",
          "height": 391
        }
      },
      "source": [
        "# % of null value in each column\n",
        "\n",
        "round((df.isnull().mean())*100,2)"
      ],
      "execution_count": 0,
      "outputs": [
        {
          "output_type": "execute_result",
          "data": {
            "text/plain": [
              "country                             0.00\n",
              "year                                0.00\n",
              "status                              0.00\n",
              "life_expectancy                     0.34\n",
              "adult_mortality                     5.28\n",
              "infant_deaths                      28.86\n",
              "alcohol                             6.60\n",
              "percentage_expenditure              0.00\n",
              "hepatitis_b                        18.82\n",
              "measles                             0.00\n",
              "bmi                                49.56\n",
              "under-five_deaths                  26.72\n",
              "polio                               0.65\n",
              "total_expenditure                   7.69\n",
              "diphtheria                          0.65\n",
              "hiv/aids                            0.00\n",
              "gdp                                15.25\n",
              "population                         22.19\n",
              "thinness_1-19_years                 1.16\n",
              "thinness_5-9_years                  1.16\n",
              "income_composition_of_resources     5.68\n",
              "schooling                           5.55\n",
              "dtype: float64"
            ]
          },
          "metadata": {
            "tags": []
          },
          "execution_count": 68
        }
      ]
    },
    {
      "cell_type": "markdown",
      "metadata": {
        "id": "HiphEcLxn0-m",
        "colab_type": "text"
      },
      "source": [
        "It appears that there are a decent amount of null values,hence just dropping the NULL values will result into loss of usefull data.\n"
      ]
    },
    {
      "cell_type": "markdown",
      "metadata": {
        "id": "JmA5_ewyoSj_",
        "colab_type": "text"
      },
      "source": [
        "<h4>Dealing with missing values</h4>\n"
      ]
    },
    {
      "cell_type": "markdown",
      "metadata": {
        "id": "hNUyfAXnoiis",
        "colab_type": "text"
      },
      "source": [
        "Nearly half of the BMI variable's values are null, it is likely best to remove this variable altogether."
      ]
    },
    {
      "cell_type": "code",
      "metadata": {
        "id": "_oIMN6bZqqeH",
        "colab_type": "code",
        "colab": {}
      },
      "source": [
        "df.drop(['bmi'],axis=1,inplace=True)\n",
        "\n",
        "\n"
      ],
      "execution_count": 0,
      "outputs": []
    },
    {
      "cell_type": "code",
      "metadata": {
        "id": "ANooHho1fHDl",
        "colab_type": "code",
        "outputId": "6674b8f3-95c4-42a7-e4a0-8e03cc2b7c3b",
        "colab": {
          "base_uri": "https://localhost:8080/",
          "height": 33
        }
      },
      "source": [
        "df.shape"
      ],
      "execution_count": 0,
      "outputs": [
        {
          "output_type": "execute_result",
          "data": {
            "text/plain": [
              "(2938, 21)"
            ]
          },
          "metadata": {
            "tags": []
          },
          "execution_count": 68
        }
      ]
    },
    {
      "cell_type": "markdown",
      "metadata": {
        "id": "10QhYLg63fIL",
        "colab_type": "text"
      },
      "source": [
        "It looks like there are a lot of columns containing null values, since this is time series data assorted by country, the best course of action would be to interpolate the data by country, therefore imputation by year may be the best possible method here. \n",
        "Imputation of each year's mean is done below.\n",
        "\n"
      ]
    },
    {
      "cell_type": "code",
      "metadata": {
        "id": "7RUz123MqqYB",
        "colab_type": "code",
        "outputId": "e917e801-8328-4494-8e8b-7d3ae7498b9c",
        "colab": {
          "base_uri": "https://localhost:8080/",
          "height": 476
        }
      },
      "source": [
        "imputed_data = []\n",
        "for year in list(df.year.unique()):\n",
        "    year_data = df[df.year == year].copy()\n",
        "    \n",
        "    for col in list(year_data.columns)[3:]:\n",
        "       year_data[col] = year_data[col].fillna(year_data[col].mean()).copy()\n",
        "    imputed_data.append(year_data)\n",
        "  \n",
        "    \n",
        "df = pd.concat(imputed_data).copy()\n",
        "\n",
        "# df.isna().any()\n",
        "imputed_data[0]"
      ],
      "execution_count": 0,
      "outputs": [
        {
          "output_type": "execute_result",
          "data": {
            "text/html": [
              "<div>\n",
              "<style scoped>\n",
              "    .dataframe tbody tr th:only-of-type {\n",
              "        vertical-align: middle;\n",
              "    }\n",
              "\n",
              "    .dataframe tbody tr th {\n",
              "        vertical-align: top;\n",
              "    }\n",
              "\n",
              "    .dataframe thead th {\n",
              "        text-align: right;\n",
              "    }\n",
              "</style>\n",
              "<table border=\"1\" class=\"dataframe\">\n",
              "  <thead>\n",
              "    <tr style=\"text-align: right;\">\n",
              "      <th></th>\n",
              "      <th>country</th>\n",
              "      <th>year</th>\n",
              "      <th>status</th>\n",
              "      <th>life_expectancy</th>\n",
              "      <th>adult_mortality</th>\n",
              "      <th>infant_deaths</th>\n",
              "      <th>alcohol</th>\n",
              "      <th>percentage_expenditure</th>\n",
              "      <th>hepatitis_b</th>\n",
              "      <th>measles</th>\n",
              "      <th>under-five_deaths</th>\n",
              "      <th>polio</th>\n",
              "      <th>total_expenditure</th>\n",
              "      <th>diphtheria</th>\n",
              "      <th>hiv/aids</th>\n",
              "      <th>gdp</th>\n",
              "      <th>population</th>\n",
              "      <th>thinness_1-19_years</th>\n",
              "      <th>thinness_5-9_years</th>\n",
              "      <th>income_composition_of_resources</th>\n",
              "      <th>schooling</th>\n",
              "    </tr>\n",
              "  </thead>\n",
              "  <tbody>\n",
              "    <tr>\n",
              "      <th>0</th>\n",
              "      <td>Afghanistan</td>\n",
              "      <td>2015</td>\n",
              "      <td>Developing</td>\n",
              "      <td>65.0</td>\n",
              "      <td>263.0</td>\n",
              "      <td>62.000000</td>\n",
              "      <td>0.010000</td>\n",
              "      <td>71.279624</td>\n",
              "      <td>65.0</td>\n",
              "      <td>1154</td>\n",
              "      <td>83.000000</td>\n",
              "      <td>6.0</td>\n",
              "      <td>8.16</td>\n",
              "      <td>65.0</td>\n",
              "      <td>0.1</td>\n",
              "      <td>584.259210</td>\n",
              "      <td>3.373649e+07</td>\n",
              "      <td>17.2</td>\n",
              "      <td>17.3</td>\n",
              "      <td>0.479</td>\n",
              "      <td>10.1</td>\n",
              "    </tr>\n",
              "    <tr>\n",
              "      <th>16</th>\n",
              "      <td>Albania</td>\n",
              "      <td>2015</td>\n",
              "      <td>Developing</td>\n",
              "      <td>77.8</td>\n",
              "      <td>74.0</td>\n",
              "      <td>35.129032</td>\n",
              "      <td>4.600000</td>\n",
              "      <td>364.975229</td>\n",
              "      <td>99.0</td>\n",
              "      <td>0</td>\n",
              "      <td>44.844961</td>\n",
              "      <td>99.0</td>\n",
              "      <td>6.00</td>\n",
              "      <td>99.0</td>\n",
              "      <td>0.1</td>\n",
              "      <td>3954.227830</td>\n",
              "      <td>2.887300e+04</td>\n",
              "      <td>1.2</td>\n",
              "      <td>1.3</td>\n",
              "      <td>0.762</td>\n",
              "      <td>14.2</td>\n",
              "    </tr>\n",
              "    <tr>\n",
              "      <th>32</th>\n",
              "      <td>Algeria</td>\n",
              "      <td>2015</td>\n",
              "      <td>Developing</td>\n",
              "      <td>75.6</td>\n",
              "      <td>19.0</td>\n",
              "      <td>21.000000</td>\n",
              "      <td>5.288333</td>\n",
              "      <td>0.000000</td>\n",
              "      <td>95.0</td>\n",
              "      <td>63</td>\n",
              "      <td>24.000000</td>\n",
              "      <td>95.0</td>\n",
              "      <td>7.08</td>\n",
              "      <td>95.0</td>\n",
              "      <td>0.1</td>\n",
              "      <td>4132.762920</td>\n",
              "      <td>3.987153e+07</td>\n",
              "      <td>6.0</td>\n",
              "      <td>5.8</td>\n",
              "      <td>0.743</td>\n",
              "      <td>14.4</td>\n",
              "    </tr>\n",
              "    <tr>\n",
              "      <th>48</th>\n",
              "      <td>Angola</td>\n",
              "      <td>2015</td>\n",
              "      <td>Developing</td>\n",
              "      <td>52.4</td>\n",
              "      <td>335.0</td>\n",
              "      <td>66.000000</td>\n",
              "      <td>5.288333</td>\n",
              "      <td>0.000000</td>\n",
              "      <td>64.0</td>\n",
              "      <td>118</td>\n",
              "      <td>98.000000</td>\n",
              "      <td>7.0</td>\n",
              "      <td>7.08</td>\n",
              "      <td>64.0</td>\n",
              "      <td>1.9</td>\n",
              "      <td>3695.793748</td>\n",
              "      <td>2.785935e+06</td>\n",
              "      <td>8.3</td>\n",
              "      <td>8.2</td>\n",
              "      <td>0.531</td>\n",
              "      <td>11.4</td>\n",
              "    </tr>\n",
              "    <tr>\n",
              "      <th>64</th>\n",
              "      <td>Antigua and Barbuda</td>\n",
              "      <td>2015</td>\n",
              "      <td>Developing</td>\n",
              "      <td>76.4</td>\n",
              "      <td>13.0</td>\n",
              "      <td>35.129032</td>\n",
              "      <td>5.288333</td>\n",
              "      <td>0.000000</td>\n",
              "      <td>99.0</td>\n",
              "      <td>0</td>\n",
              "      <td>44.844961</td>\n",
              "      <td>86.0</td>\n",
              "      <td>7.08</td>\n",
              "      <td>99.0</td>\n",
              "      <td>0.2</td>\n",
              "      <td>13566.954100</td>\n",
              "      <td>1.109741e+07</td>\n",
              "      <td>3.3</td>\n",
              "      <td>3.3</td>\n",
              "      <td>0.784</td>\n",
              "      <td>13.9</td>\n",
              "    </tr>\n",
              "    <tr>\n",
              "      <th>...</th>\n",
              "      <td>...</td>\n",
              "      <td>...</td>\n",
              "      <td>...</td>\n",
              "      <td>...</td>\n",
              "      <td>...</td>\n",
              "      <td>...</td>\n",
              "      <td>...</td>\n",
              "      <td>...</td>\n",
              "      <td>...</td>\n",
              "      <td>...</td>\n",
              "      <td>...</td>\n",
              "      <td>...</td>\n",
              "      <td>...</td>\n",
              "      <td>...</td>\n",
              "      <td>...</td>\n",
              "      <td>...</td>\n",
              "      <td>...</td>\n",
              "      <td>...</td>\n",
              "      <td>...</td>\n",
              "      <td>...</td>\n",
              "      <td>...</td>\n",
              "    </tr>\n",
              "    <tr>\n",
              "      <th>2858</th>\n",
              "      <td>Venezuela (Bolivarian Republic of)</td>\n",
              "      <td>2015</td>\n",
              "      <td>Developing</td>\n",
              "      <td>74.1</td>\n",
              "      <td>157.0</td>\n",
              "      <td>9.000000</td>\n",
              "      <td>5.288333</td>\n",
              "      <td>0.000000</td>\n",
              "      <td>87.0</td>\n",
              "      <td>0</td>\n",
              "      <td>10.000000</td>\n",
              "      <td>87.0</td>\n",
              "      <td>7.08</td>\n",
              "      <td>87.0</td>\n",
              "      <td>0.1</td>\n",
              "      <td>7185.331746</td>\n",
              "      <td>1.109741e+07</td>\n",
              "      <td>1.6</td>\n",
              "      <td>1.5</td>\n",
              "      <td>0.769</td>\n",
              "      <td>14.3</td>\n",
              "    </tr>\n",
              "    <tr>\n",
              "      <th>2874</th>\n",
              "      <td>Viet Nam</td>\n",
              "      <td>2015</td>\n",
              "      <td>Developing</td>\n",
              "      <td>76.0</td>\n",
              "      <td>127.0</td>\n",
              "      <td>28.000000</td>\n",
              "      <td>5.288333</td>\n",
              "      <td>0.000000</td>\n",
              "      <td>97.0</td>\n",
              "      <td>256</td>\n",
              "      <td>35.000000</td>\n",
              "      <td>97.0</td>\n",
              "      <td>7.08</td>\n",
              "      <td>97.0</td>\n",
              "      <td>0.1</td>\n",
              "      <td>7185.331746</td>\n",
              "      <td>1.109741e+07</td>\n",
              "      <td>14.2</td>\n",
              "      <td>14.5</td>\n",
              "      <td>0.678</td>\n",
              "      <td>12.6</td>\n",
              "    </tr>\n",
              "    <tr>\n",
              "      <th>2890</th>\n",
              "      <td>Yemen</td>\n",
              "      <td>2015</td>\n",
              "      <td>Developing</td>\n",
              "      <td>65.7</td>\n",
              "      <td>224.0</td>\n",
              "      <td>37.000000</td>\n",
              "      <td>5.288333</td>\n",
              "      <td>0.000000</td>\n",
              "      <td>69.0</td>\n",
              "      <td>468</td>\n",
              "      <td>47.000000</td>\n",
              "      <td>63.0</td>\n",
              "      <td>7.08</td>\n",
              "      <td>69.0</td>\n",
              "      <td>0.1</td>\n",
              "      <td>7185.331746</td>\n",
              "      <td>1.109741e+07</td>\n",
              "      <td>13.6</td>\n",
              "      <td>13.4</td>\n",
              "      <td>0.499</td>\n",
              "      <td>9.0</td>\n",
              "    </tr>\n",
              "    <tr>\n",
              "      <th>2906</th>\n",
              "      <td>Zambia</td>\n",
              "      <td>2015</td>\n",
              "      <td>Developing</td>\n",
              "      <td>61.8</td>\n",
              "      <td>33.0</td>\n",
              "      <td>27.000000</td>\n",
              "      <td>5.288333</td>\n",
              "      <td>0.000000</td>\n",
              "      <td>9.0</td>\n",
              "      <td>9</td>\n",
              "      <td>40.000000</td>\n",
              "      <td>9.0</td>\n",
              "      <td>7.08</td>\n",
              "      <td>9.0</td>\n",
              "      <td>4.1</td>\n",
              "      <td>1313.889646</td>\n",
              "      <td>1.615870e+05</td>\n",
              "      <td>6.3</td>\n",
              "      <td>6.1</td>\n",
              "      <td>0.576</td>\n",
              "      <td>12.5</td>\n",
              "    </tr>\n",
              "    <tr>\n",
              "      <th>2922</th>\n",
              "      <td>Zimbabwe</td>\n",
              "      <td>2015</td>\n",
              "      <td>Developing</td>\n",
              "      <td>67.0</td>\n",
              "      <td>336.0</td>\n",
              "      <td>22.000000</td>\n",
              "      <td>5.288333</td>\n",
              "      <td>0.000000</td>\n",
              "      <td>87.0</td>\n",
              "      <td>0</td>\n",
              "      <td>32.000000</td>\n",
              "      <td>88.0</td>\n",
              "      <td>7.08</td>\n",
              "      <td>87.0</td>\n",
              "      <td>6.2</td>\n",
              "      <td>118.693830</td>\n",
              "      <td>1.577745e+07</td>\n",
              "      <td>5.6</td>\n",
              "      <td>5.5</td>\n",
              "      <td>0.507</td>\n",
              "      <td>10.3</td>\n",
              "    </tr>\n",
              "  </tbody>\n",
              "</table>\n",
              "<p>183 rows × 21 columns</p>\n",
              "</div>"
            ],
            "text/plain": [
              "                                 country  ...  schooling\n",
              "0                            Afghanistan  ...       10.1\n",
              "16                               Albania  ...       14.2\n",
              "32                               Algeria  ...       14.4\n",
              "48                                Angola  ...       11.4\n",
              "64                   Antigua and Barbuda  ...       13.9\n",
              "...                                  ...  ...        ...\n",
              "2858  Venezuela (Bolivarian Republic of)  ...       14.3\n",
              "2874                            Viet Nam  ...       12.6\n",
              "2890                               Yemen  ...        9.0\n",
              "2906                              Zambia  ...       12.5\n",
              "2922                            Zimbabwe  ...       10.3\n",
              "\n",
              "[183 rows x 21 columns]"
            ]
          },
          "metadata": {
            "tags": []
          },
          "execution_count": 11
        }
      ]
    },
    {
      "cell_type": "markdown",
      "metadata": {
        "id": "QNZGwItMpEdJ",
        "colab_type": "text"
      },
      "source": [
        "It appears that this method took care of the null values."
      ]
    },
    {
      "cell_type": "code",
      "metadata": {
        "id": "ZS0z6svuX825",
        "colab_type": "code",
        "outputId": "f503f38f-c7a2-4ae0-a94b-5a4656f6f89c",
        "colab": {
          "base_uri": "https://localhost:8080/",
          "height": 33
        }
      },
      "source": [
        "df.shape"
      ],
      "execution_count": 0,
      "outputs": [
        {
          "output_type": "execute_result",
          "data": {
            "text/plain": [
              "(2938, 21)"
            ]
          },
          "metadata": {
            "tags": []
          },
          "execution_count": 10
        }
      ]
    },
    {
      "cell_type": "markdown",
      "metadata": {
        "id": "0vqAaEiXpLc9",
        "colab_type": "text"
      },
      "source": [
        "<h3> Handling Outliers </h2>\n",
        "\n",
        "Similar to missing values, there are a few things that need done in order to deal with outliers:\n",
        "\n",
        "\n",
        "\n",
        "1.  Detect the outliers\n",
        "\n",
        "       *   Boxplots/histograms\n",
        "       *   Tukey's Method\n",
        "\n",
        "\n",
        "2.  Deal with outliers\n",
        "\n",
        "       *   Drop outliers?\n",
        "       *   Limit/Winsorize outliers?\n",
        "       *   Transform the data using log/inverse/square root/etc?\n",
        "\n",
        "\n",
        "\n",
        "\n",
        "\n",
        "\n",
        "\n",
        "\n"
      ]
    },
    {
      "cell_type": "markdown",
      "metadata": {
        "id": "euazm0ZQqpFV",
        "colab_type": "text"
      },
      "source": [
        "<h4> Outliers Detection </h4>\n",
        "\n",
        "First a boxplot will be created for each continuous variable in order to visually see if outliers exist."
      ]
    },
    {
      "cell_type": "code",
      "metadata": {
        "id": "mcfMEj9wMcv3",
        "colab_type": "code",
        "outputId": "802735cd-5c2f-4dc6-e40b-a17da7d763d1",
        "colab": {
          "base_uri": "https://localhost:8080/",
          "height": 1000
        }
      },
      "source": [
        "cont_vars = list(df.columns)[3:]\n",
        "def outliers_visual(data):\n",
        "    plt.figure(figsize=(15, 40))\n",
        "    i = 0\n",
        "    for col in cont_vars:\n",
        "        i += 1\n",
        "        plt.subplot(9, 4, i)\n",
        "        plt.boxplot(data[col])\n",
        "        plt.title('{} boxplot'.format(col))\n",
        "    plt.show()\n",
        "\n",
        "outliers_visual(df)"
      ],
      "execution_count": 0,
      "outputs": [
        {
          "output_type": "display_data",
          "data": {
            "image/png": "[encoded data removed]",
            "text/plain": [
              "<Figure size 1080x2880 with 18 Axes>"
            ]
          },
          "metadata": {
            "tags": []
          }
        }
      ]
    },
    {
      "cell_type": "markdown",
      "metadata": {
        "id": "HM9EDyS_qPfm",
        "colab_type": "text"
      },
      "source": [
        "<p>Visually, it can be seen that there are a number of outliers for all of these variables - including the target variable, life expectancy. The same will be done statistically using Tukey's method below - outliers being considered anything outside of 1.5 times the IQR. </p>"
      ]
    },
    {
      "cell_type": "code",
      "metadata": {
        "id": "uWfwWsp9qqI8",
        "colab_type": "code",
        "colab": {}
      },
      "source": [
        "# function to calculate no. of outliers in each column\n",
        "def count_outlier(col,data):\n",
        "  q25 = np.quantile(data[col],.25)\n",
        "  q75 = np.quantile(data[col],.75)\n",
        "  iqr= q75-q25\n",
        "  max_limit= q75 + iqr*1.5\n",
        "  min_limit=q25  - iqr*1.5\n",
        "  outlier_count= len(np.where((data[col]< min_limit) | (data[col]> max_limit))[0])\n",
        "  outlier_percent= (outlier_count/len(data[col]))\n",
        "  print(8*'*' + col + 8*'*')\n",
        "  print(\"No. of outliers: {} \".format(outlier_count))\n",
        "  print(\"Percent of outliers: {} \".format(outlier_percent))\n",
        "  print(\"\\n\")"
      ],
      "execution_count": 0,
      "outputs": []
    },
    {
      "cell_type": "code",
      "metadata": {
        "id": "iv-uSgXGqqGp",
        "colab_type": "code",
        "outputId": "c08321a7-baea-4c2c-d4ee-aeed83bf565e",
        "colab": {
          "base_uri": "https://localhost:8080/",
          "height": 1000
        }
      },
      "source": [
        "for col in cont_vars:\n",
        "  count_outlier(col,df)"
      ],
      "execution_count": 0,
      "outputs": [
        {
          "output_type": "stream",
          "text": [
            "********life_expectancy********\n",
            "No. of outliers: 17 \n",
            "Percent of outliers: 0.005786249149081007 \n",
            "\n",
            "\n",
            "********adult_mortality********\n",
            "No. of outliers: 97 \n",
            "Percent of outliers: 0.03301565690946222 \n",
            "\n",
            "\n",
            "********infant_deaths********\n",
            "No. of outliers: 135 \n",
            "Percent of outliers: 0.04594962559564329 \n",
            "\n",
            "\n",
            "********alcohol********\n",
            "No. of outliers: 3 \n",
            "Percent of outliers: 0.0010211027910142954 \n",
            "\n",
            "\n",
            "********percentage_expenditure********\n",
            "No. of outliers: 389 \n",
            "Percent of outliers: 0.13240299523485363 \n",
            "\n",
            "\n",
            "********hepatitis_b********\n",
            "No. of outliers: 222 \n",
            "Percent of outliers: 0.07556160653505786 \n",
            "\n",
            "\n",
            "********measles********\n",
            "No. of outliers: 542 \n",
            "Percent of outliers: 0.18447923757658272 \n",
            "\n",
            "\n",
            "********under-five_deaths********\n",
            "No. of outliers: 142 \n",
            "Percent of outliers: 0.04833219877467665 \n",
            "\n",
            "\n",
            "********polio********\n",
            "No. of outliers: 279 \n",
            "Percent of outliers: 0.09496255956432947 \n",
            "\n",
            "\n",
            "********total_expenditure********\n",
            "No. of outliers: 51 \n",
            "Percent of outliers: 0.01735874744724302 \n",
            "\n",
            "\n",
            "********diphtheria********\n",
            "No. of outliers: 298 \n",
            "Percent of outliers: 0.10142954390742001 \n",
            "\n",
            "\n",
            "********hiv/aids********\n",
            "No. of outliers: 542 \n",
            "Percent of outliers: 0.18447923757658272 \n",
            "\n",
            "\n",
            "********gdp********\n",
            "No. of outliers: 300 \n",
            "Percent of outliers: 0.10211027910142954 \n",
            "\n",
            "\n",
            "********population********\n",
            "No. of outliers: 203 \n",
            "Percent of outliers: 0.06909462219196733 \n",
            "\n",
            "\n",
            "********thinness_1-19_years********\n",
            "No. of outliers: 100 \n",
            "Percent of outliers: 0.03403675970047652 \n",
            "\n",
            "\n",
            "********thinness_5-9_years********\n",
            "No. of outliers: 99 \n",
            "Percent of outliers: 0.03369639210347175 \n",
            "\n",
            "\n",
            "********income_composition_of_resources********\n",
            "No. of outliers: 130 \n",
            "Percent of outliers: 0.04424778761061947 \n",
            "\n",
            "\n",
            "********schooling********\n",
            "No. of outliers: 77 \n",
            "Percent of outliers: 0.026208304969366915 \n",
            "\n",
            "\n"
          ],
          "name": "stdout"
        }
      ]
    },
    {
      "cell_type": "markdown",
      "metadata": {
        "id": "XvnL5Ug_rRLJ",
        "colab_type": "text"
      },
      "source": [
        "<p>It appears there are a decent amount of outliers in this dataset</p>"
      ]
    },
    {
      "cell_type": "markdown",
      "metadata": {
        "id": "RWuKZtSZrZBz",
        "colab_type": "text"
      },
      "source": [
        "<h4> Dealing with outliers </h4>\n",
        "\n",
        "There are a number of ways to deal with outliers in a dataset, the usual options are as follows:\n",
        "\n",
        "1. Drop Outliers (best avoided in order to keep as much information as possible)\n",
        "\n",
        "2. Limit values to upper and/or lower bounds (Winsorize the data)\n",
        " \n",
        "3. Transform the data (log/inverse/square root/etc.)\n",
        "     * advantage: can 'normalize' the data and eliminate outliers\n",
        "     * disadvantage: cannot be done to variables containing values of 0 or below\n"
      ]
    },
    {
      "cell_type": "markdown",
      "metadata": {
        "id": "euBbgSl9r7yb",
        "colab_type": "text"
      },
      "source": [
        "<p> Since each variable has a unique amount of outliers and also has outliers on different sides of the data, the best route to take is probably winsorizing (limiting) the values for each variable on its own until no outliers remain. </p>\n",
        "<p>The function below allows me to do exactly that by going variable by variable with the ability to use a lower limit and/or upper limit for winsorization.</p>\n",
        "<p>Once a satisfactory limit is found (by visual analysis), the winsorized data will be saved in the wins_dict dictionary so the data can easily be accessed later.</p>"
      ]
    },
    {
      "cell_type": "code",
      "metadata": {
        "id": "qyqCa4XKqqAu",
        "colab_type": "code",
        "colab": {}
      },
      "source": [
        "# function to winsorize each column according to given limits\n",
        "\n",
        "from scipy.stats.mstats import winsorize\n",
        "def test_wins(col, lower_limit=0, upper_limit=0):\n",
        "  wins_data=winsorize(df[col],limits=[lower_limit,upper_limit])\n",
        "  wins_dict[col]= wins_data\n"
      ],
      "execution_count": 0,
      "outputs": []
    },
    {
      "cell_type": "code",
      "metadata": {
        "id": "uk_Kl0gHqp51",
        "colab_type": "code",
        "colab": {}
      },
      "source": [
        "wins_dict = {}\n",
        "test_wins(cont_vars[0], lower_limit=.01)\n",
        "test_wins(cont_vars[1], upper_limit=.04)\n",
        "test_wins(cont_vars[2], upper_limit=.05)\n",
        "test_wins(cont_vars[3], upper_limit=.0025)\n",
        "test_wins(cont_vars[4], upper_limit=.135)\n",
        "test_wins(cont_vars[5], lower_limit=.1)\n",
        "test_wins(cont_vars[6], upper_limit=.19)\n",
        "test_wins(cont_vars[7], upper_limit=.05)\n",
        "test_wins(cont_vars[8], lower_limit=.1)\n",
        "test_wins(cont_vars[9], upper_limit=.02)\n",
        "test_wins(cont_vars[10], lower_limit=.105)\n",
        "test_wins(cont_vars[11], upper_limit=.185)\n",
        "test_wins(cont_vars[12], upper_limit=.105)\n",
        "test_wins(cont_vars[13], upper_limit=.07)\n",
        "test_wins(cont_vars[14], upper_limit=.035)\n",
        "test_wins(cont_vars[15], upper_limit=.035)\n",
        "test_wins(cont_vars[16], lower_limit=.05)\n",
        "test_wins(cont_vars[17], lower_limit=.025, upper_limit=.005)"
      ],
      "execution_count": 0,
      "outputs": []
    },
    {
      "cell_type": "markdown",
      "metadata": {
        "id": "ovlOitYAskj4",
        "colab_type": "text"
      },
      "source": [
        "<p>All the variables have now been winsorized as little as possible in order to keep as much data in tact as possible while still being able to eliminate the outliers.</p>\n",
        "<p>Finally, small boxplots will be shown for each variable's winsorized data to show that the outliers have indeed been dealt with.</p>"
      ]
    },
    {
      "cell_type": "code",
      "metadata": {
        "id": "qvMygRzCqp0i",
        "colab_type": "code",
        "outputId": "ee7123f3-bab5-481e-d572-476a084f5ff7",
        "colab": {
          "base_uri": "https://localhost:8080/",
          "height": 311
        }
      },
      "source": [
        "plt.figure(figsize=(30,5))\n",
        "i=0\n",
        "for col in cont_vars:\n",
        "  i+=1\n",
        "  plt.title(col)\n",
        "  plt.subplot(2, 9, i)\n",
        "  plt.boxplot(wins_dict[col])\n",
        " \n",
        "plt.show()"
      ],
      "execution_count": 0,
      "outputs": [
        {
          "output_type": "display_data",
          "data": {
            "image/png": "[encoded data removed]",
            "text/plain": [
              "<Figure size 2160x360 with 18 Axes>"
            ]
          },
          "metadata": {
            "tags": []
          }
        }
      ]
    },
    {
      "cell_type": "markdown",
      "metadata": {
        "id": "E7FVriORuVFz",
        "colab_type": "text"
      },
      "source": [
        "<p> Keeping all the winsorized column back to the dataframe</p>"
      ]
    },
    {
      "cell_type": "code",
      "metadata": {
        "id": "MnhVVAx8j0nQ",
        "colab_type": "code",
        "colab": {}
      },
      "source": [
        "for col in cont_vars:\n",
        "  df[col] = wins_dict[col]"
      ],
      "execution_count": 0,
      "outputs": []
    },
    {
      "cell_type": "code",
      "metadata": {
        "id": "CXvPQ79fj7Kr",
        "colab_type": "code",
        "outputId": "7962e825-ff3f-4f2d-c6f4-5aa32b87d3af",
        "colab": {
          "base_uri": "https://localhost:8080/",
          "height": 243
        }
      },
      "source": [
        "df.head()"
      ],
      "execution_count": 0,
      "outputs": [
        {
          "output_type": "execute_result",
          "data": {
            "text/html": [
              "<div>\n",
              "<style scoped>\n",
              "    .dataframe tbody tr th:only-of-type {\n",
              "        vertical-align: middle;\n",
              "    }\n",
              "\n",
              "    .dataframe tbody tr th {\n",
              "        vertical-align: top;\n",
              "    }\n",
              "\n",
              "    .dataframe thead th {\n",
              "        text-align: right;\n",
              "    }\n",
              "</style>\n",
              "<table border=\"1\" class=\"dataframe\">\n",
              "  <thead>\n",
              "    <tr style=\"text-align: right;\">\n",
              "      <th></th>\n",
              "      <th>country</th>\n",
              "      <th>year</th>\n",
              "      <th>status</th>\n",
              "      <th>life_expectancy</th>\n",
              "      <th>adult_mortality</th>\n",
              "      <th>infant_deaths</th>\n",
              "      <th>alcohol</th>\n",
              "      <th>percentage_expenditure</th>\n",
              "      <th>hepatitis_b</th>\n",
              "      <th>measles</th>\n",
              "      <th>under-five_deaths</th>\n",
              "      <th>polio</th>\n",
              "      <th>total_expenditure</th>\n",
              "      <th>diphtheria</th>\n",
              "      <th>hiv/aids</th>\n",
              "      <th>gdp</th>\n",
              "      <th>population</th>\n",
              "      <th>thinness_1-19_years</th>\n",
              "      <th>thinness_5-9_years</th>\n",
              "      <th>income_composition_of_resources</th>\n",
              "      <th>schooling</th>\n",
              "    </tr>\n",
              "  </thead>\n",
              "  <tbody>\n",
              "    <tr>\n",
              "      <th>0</th>\n",
              "      <td>Afghanistan</td>\n",
              "      <td>2015</td>\n",
              "      <td>Developing</td>\n",
              "      <td>65.0</td>\n",
              "      <td>263.0</td>\n",
              "      <td>62.000000</td>\n",
              "      <td>0.010000</td>\n",
              "      <td>71.279624</td>\n",
              "      <td>65.0</td>\n",
              "      <td>831</td>\n",
              "      <td>83.000000</td>\n",
              "      <td>52.0</td>\n",
              "      <td>8.16</td>\n",
              "      <td>65.0</td>\n",
              "      <td>0.1</td>\n",
              "      <td>584.259210</td>\n",
              "      <td>2.865628e+07</td>\n",
              "      <td>15.3</td>\n",
              "      <td>15.5</td>\n",
              "      <td>0.479</td>\n",
              "      <td>10.1</td>\n",
              "    </tr>\n",
              "    <tr>\n",
              "      <th>16</th>\n",
              "      <td>Albania</td>\n",
              "      <td>2015</td>\n",
              "      <td>Developing</td>\n",
              "      <td>77.8</td>\n",
              "      <td>74.0</td>\n",
              "      <td>35.129032</td>\n",
              "      <td>4.600000</td>\n",
              "      <td>364.975229</td>\n",
              "      <td>99.0</td>\n",
              "      <td>0</td>\n",
              "      <td>44.844961</td>\n",
              "      <td>99.0</td>\n",
              "      <td>6.00</td>\n",
              "      <td>99.0</td>\n",
              "      <td>0.1</td>\n",
              "      <td>3954.227830</td>\n",
              "      <td>2.887300e+04</td>\n",
              "      <td>1.2</td>\n",
              "      <td>1.3</td>\n",
              "      <td>0.762</td>\n",
              "      <td>14.2</td>\n",
              "    </tr>\n",
              "    <tr>\n",
              "      <th>32</th>\n",
              "      <td>Algeria</td>\n",
              "      <td>2015</td>\n",
              "      <td>Developing</td>\n",
              "      <td>75.6</td>\n",
              "      <td>19.0</td>\n",
              "      <td>21.000000</td>\n",
              "      <td>5.288333</td>\n",
              "      <td>0.000000</td>\n",
              "      <td>95.0</td>\n",
              "      <td>63</td>\n",
              "      <td>24.000000</td>\n",
              "      <td>95.0</td>\n",
              "      <td>7.08</td>\n",
              "      <td>95.0</td>\n",
              "      <td>0.1</td>\n",
              "      <td>4132.762920</td>\n",
              "      <td>2.865628e+07</td>\n",
              "      <td>6.0</td>\n",
              "      <td>5.8</td>\n",
              "      <td>0.743</td>\n",
              "      <td>14.4</td>\n",
              "    </tr>\n",
              "    <tr>\n",
              "      <th>48</th>\n",
              "      <td>Angola</td>\n",
              "      <td>2015</td>\n",
              "      <td>Developing</td>\n",
              "      <td>52.4</td>\n",
              "      <td>335.0</td>\n",
              "      <td>66.000000</td>\n",
              "      <td>5.288333</td>\n",
              "      <td>0.000000</td>\n",
              "      <td>64.0</td>\n",
              "      <td>118</td>\n",
              "      <td>98.000000</td>\n",
              "      <td>52.0</td>\n",
              "      <td>7.08</td>\n",
              "      <td>64.0</td>\n",
              "      <td>1.8</td>\n",
              "      <td>3695.793748</td>\n",
              "      <td>2.785935e+06</td>\n",
              "      <td>8.3</td>\n",
              "      <td>8.2</td>\n",
              "      <td>0.531</td>\n",
              "      <td>11.4</td>\n",
              "    </tr>\n",
              "    <tr>\n",
              "      <th>64</th>\n",
              "      <td>Antigua and Barbuda</td>\n",
              "      <td>2015</td>\n",
              "      <td>Developing</td>\n",
              "      <td>76.4</td>\n",
              "      <td>13.0</td>\n",
              "      <td>35.129032</td>\n",
              "      <td>5.288333</td>\n",
              "      <td>0.000000</td>\n",
              "      <td>99.0</td>\n",
              "      <td>0</td>\n",
              "      <td>44.844961</td>\n",
              "      <td>86.0</td>\n",
              "      <td>7.08</td>\n",
              "      <td>99.0</td>\n",
              "      <td>0.2</td>\n",
              "      <td>13566.954100</td>\n",
              "      <td>1.109741e+07</td>\n",
              "      <td>3.3</td>\n",
              "      <td>3.3</td>\n",
              "      <td>0.784</td>\n",
              "      <td>13.9</td>\n",
              "    </tr>\n",
              "  </tbody>\n",
              "</table>\n",
              "</div>"
            ],
            "text/plain": [
              "                country  year  ... income_composition_of_resources  schooling\n",
              "0           Afghanistan  2015  ...                           0.479       10.1\n",
              "16              Albania  2015  ...                           0.762       14.2\n",
              "32              Algeria  2015  ...                           0.743       14.4\n",
              "48               Angola  2015  ...                           0.531       11.4\n",
              "64  Antigua and Barbuda  2015  ...                           0.784       13.9\n",
              "\n",
              "[5 rows x 21 columns]"
            ]
          },
          "metadata": {
            "tags": []
          },
          "execution_count": 25
        }
      ]
    },
    {
      "cell_type": "markdown",
      "metadata": {
        "id": "5t3Vsk83szWu",
        "colab_type": "text"
      },
      "source": [
        "<h3> Dealing with Categorical Value</h3>\n",
        "\n",
        "<p> In this only one column i.e 'status' have categorical value.</p>\n",
        "<p>Therefore pd.get_dummies() function used to create dummy variables"
      ]
    },
    {
      "cell_type": "code",
      "metadata": {
        "id": "D2oWpIbAqpgZ",
        "colab_type": "code",
        "colab": {}
      },
      "source": [
        "df=pd.concat([df.drop(['status'],axis=1),pd.get_dummies(df['status'])],axis=1)"
      ],
      "execution_count": 0,
      "outputs": []
    },
    {
      "cell_type": "code",
      "metadata": {
        "id": "EkTV_W8vVi6C",
        "colab_type": "code",
        "colab": {}
      },
      "source": [
        "df.shap"
      ],
      "execution_count": 0,
      "outputs": []
    },
    {
      "cell_type": "markdown",
      "metadata": {
        "id": "79qAAKB7tcjl",
        "colab_type": "text"
      },
      "source": [
        "<p>Correlation between each variables can be used to check the how variables are related to each other</p>\n",
        "<p> Some insights about correlation\n",
        "<ul>\n",
        "<li>The value of correlation is between -1,1 inclusive</l>\n",
        "<li>Correlation is Positive when the values increase together, and</li>\n",
        "<li>Correlation is Negative when one value decreases as the other increases.</li>\n",
        "<li> Correlation is 0 when values are not dependent on each ther\n",
        "<li>If correlation is >=0.7 or <=-0.7, then the values are said to be highly correlated to each other.</li>"
      ]
    },
    {
      "cell_type": "code",
      "metadata": {
        "id": "RedHmFXgCmMx",
        "colab_type": "code",
        "outputId": "4fc23449-4d83-414e-9591-cd54b520c7b7",
        "colab": {
          "base_uri": "https://localhost:8080/",
          "height": 687
        }
      },
      "source": [
        "df.corr()"
      ],
      "execution_count": 0,
      "outputs": [
        {
          "output_type": "execute_result",
          "data": {
            "text/html": [
              "<div>\n",
              "<style scoped>\n",
              "    .dataframe tbody tr th:only-of-type {\n",
              "        vertical-align: middle;\n",
              "    }\n",
              "\n",
              "    .dataframe tbody tr th {\n",
              "        vertical-align: top;\n",
              "    }\n",
              "\n",
              "    .dataframe thead th {\n",
              "        text-align: right;\n",
              "    }\n",
              "</style>\n",
              "<table border=\"1\" class=\"dataframe\">\n",
              "  <thead>\n",
              "    <tr style=\"text-align: right;\">\n",
              "      <th></th>\n",
              "      <th>year</th>\n",
              "      <th>life_expectancy</th>\n",
              "      <th>adult_mortality</th>\n",
              "      <th>infant_deaths</th>\n",
              "      <th>alcohol</th>\n",
              "      <th>percentage_expenditure</th>\n",
              "      <th>hepatitis_b</th>\n",
              "      <th>measles</th>\n",
              "      <th>under-five_deaths</th>\n",
              "      <th>polio</th>\n",
              "      <th>total_expenditure</th>\n",
              "      <th>diphtheria</th>\n",
              "      <th>hiv/aids</th>\n",
              "      <th>gdp</th>\n",
              "      <th>population</th>\n",
              "      <th>thinness_1-19_years</th>\n",
              "      <th>thinness_5-9_years</th>\n",
              "      <th>income_composition_of_resources</th>\n",
              "      <th>schooling</th>\n",
              "      <th>Developed</th>\n",
              "      <th>Developing</th>\n",
              "    </tr>\n",
              "  </thead>\n",
              "  <tbody>\n",
              "    <tr>\n",
              "      <th>year</th>\n",
              "      <td>1.000000</td>\n",
              "      <td>0.169796</td>\n",
              "      <td>-0.074960</td>\n",
              "      <td>-0.077173</td>\n",
              "      <td>-0.031642</td>\n",
              "      <td>0.032807</td>\n",
              "      <td>0.203759</td>\n",
              "      <td>-0.118772</td>\n",
              "      <td>-0.097158</td>\n",
              "      <td>0.118122</td>\n",
              "      <td>0.131170</td>\n",
              "      <td>0.150044</td>\n",
              "      <td>-0.088913</td>\n",
              "      <td>0.148771</td>\n",
              "      <td>0.067801</td>\n",
              "      <td>-0.049728</td>\n",
              "      <td>-0.050187</td>\n",
              "      <td>0.224731</td>\n",
              "      <td>0.210745</td>\n",
              "      <td>-0.001864</td>\n",
              "      <td>0.001864</td>\n",
              "    </tr>\n",
              "    <tr>\n",
              "      <th>life_expectancy</th>\n",
              "      <td>0.169796</td>\n",
              "      <td>1.000000</td>\n",
              "      <td>-0.677680</td>\n",
              "      <td>-0.222292</td>\n",
              "      <td>0.395089</td>\n",
              "      <td>0.488440</td>\n",
              "      <td>0.315120</td>\n",
              "      <td>-0.337887</td>\n",
              "      <td>-0.298626</td>\n",
              "      <td>0.573291</td>\n",
              "      <td>0.222306</td>\n",
              "      <td>0.578952</td>\n",
              "      <td>-0.796939</td>\n",
              "      <td>0.501011</td>\n",
              "      <td>0.011363</td>\n",
              "      <td>-0.514966</td>\n",
              "      <td>-0.512694</td>\n",
              "      <td>0.792878</td>\n",
              "      <td>0.742306</td>\n",
              "      <td>0.483121</td>\n",
              "      <td>-0.483121</td>\n",
              "    </tr>\n",
              "    <tr>\n",
              "      <th>adult_mortality</th>\n",
              "      <td>-0.074960</td>\n",
              "      <td>-0.677680</td>\n",
              "      <td>1.000000</td>\n",
              "      <td>0.119906</td>\n",
              "      <td>-0.187971</td>\n",
              "      <td>-0.293870</td>\n",
              "      <td>-0.214673</td>\n",
              "      <td>0.216200</td>\n",
              "      <td>0.168908</td>\n",
              "      <td>-0.348198</td>\n",
              "      <td>-0.121052</td>\n",
              "      <td>-0.351136</td>\n",
              "      <td>0.596271</td>\n",
              "      <td>-0.297774</td>\n",
              "      <td>-0.000562</td>\n",
              "      <td>0.332904</td>\n",
              "      <td>0.339266</td>\n",
              "      <td>-0.511340</td>\n",
              "      <td>-0.450785</td>\n",
              "      <td>-0.310207</td>\n",
              "      <td>0.310207</td>\n",
              "    </tr>\n",
              "    <tr>\n",
              "      <th>infant_deaths</th>\n",
              "      <td>-0.077173</td>\n",
              "      <td>-0.222292</td>\n",
              "      <td>0.119906</td>\n",
              "      <td>1.000000</td>\n",
              "      <td>-0.062119</td>\n",
              "      <td>-0.094053</td>\n",
              "      <td>-0.196145</td>\n",
              "      <td>0.323610</td>\n",
              "      <td>0.966996</td>\n",
              "      <td>-0.217511</td>\n",
              "      <td>-0.086289</td>\n",
              "      <td>-0.225997</td>\n",
              "      <td>0.124310</td>\n",
              "      <td>-0.059337</td>\n",
              "      <td>0.176352</td>\n",
              "      <td>0.196669</td>\n",
              "      <td>0.202573</td>\n",
              "      <td>-0.178389</td>\n",
              "      <td>-0.191062</td>\n",
              "      <td>-0.011644</td>\n",
              "      <td>0.011644</td>\n",
              "    </tr>\n",
              "    <tr>\n",
              "      <th>alcohol</th>\n",
              "      <td>-0.031642</td>\n",
              "      <td>0.395089</td>\n",
              "      <td>-0.187971</td>\n",
              "      <td>-0.062119</td>\n",
              "      <td>1.000000</td>\n",
              "      <td>0.378069</td>\n",
              "      <td>0.106352</td>\n",
              "      <td>-0.197193</td>\n",
              "      <td>-0.104954</td>\n",
              "      <td>0.265830</td>\n",
              "      <td>0.308434</td>\n",
              "      <td>0.272948</td>\n",
              "      <td>-0.193443</td>\n",
              "      <td>0.389598</td>\n",
              "      <td>-0.036283</td>\n",
              "      <td>-0.436755</td>\n",
              "      <td>-0.427166</td>\n",
              "      <td>0.475112</td>\n",
              "      <td>0.519757</td>\n",
              "      <td>0.580249</td>\n",
              "      <td>-0.580249</td>\n",
              "    </tr>\n",
              "    <tr>\n",
              "      <th>percentage_expenditure</th>\n",
              "      <td>0.032807</td>\n",
              "      <td>0.488440</td>\n",
              "      <td>-0.293870</td>\n",
              "      <td>-0.094053</td>\n",
              "      <td>0.378069</td>\n",
              "      <td>1.000000</td>\n",
              "      <td>0.122870</td>\n",
              "      <td>-0.194687</td>\n",
              "      <td>-0.131361</td>\n",
              "      <td>0.268385</td>\n",
              "      <td>0.159830</td>\n",
              "      <td>0.268411</td>\n",
              "      <td>-0.295791</td>\n",
              "      <td>0.712940</td>\n",
              "      <td>-0.070366</td>\n",
              "      <td>-0.331693</td>\n",
              "      <td>-0.333748</td>\n",
              "      <td>0.556006</td>\n",
              "      <td>0.530422</td>\n",
              "      <td>0.420621</td>\n",
              "      <td>-0.420621</td>\n",
              "    </tr>\n",
              "    <tr>\n",
              "      <th>hepatitis_b</th>\n",
              "      <td>0.203759</td>\n",
              "      <td>0.315120</td>\n",
              "      <td>-0.214673</td>\n",
              "      <td>-0.196145</td>\n",
              "      <td>0.106352</td>\n",
              "      <td>0.122870</td>\n",
              "      <td>1.000000</td>\n",
              "      <td>-0.266487</td>\n",
              "      <td>-0.239049</td>\n",
              "      <td>0.608008</td>\n",
              "      <td>0.071100</td>\n",
              "      <td>0.647198</td>\n",
              "      <td>-0.278977</td>\n",
              "      <td>0.172066</td>\n",
              "      <td>-0.004936</td>\n",
              "      <td>-0.134103</td>\n",
              "      <td>-0.139528</td>\n",
              "      <td>0.299493</td>\n",
              "      <td>0.290399</td>\n",
              "      <td>0.108121</td>\n",
              "      <td>-0.108121</td>\n",
              "    </tr>\n",
              "    <tr>\n",
              "      <th>measles</th>\n",
              "      <td>-0.118772</td>\n",
              "      <td>-0.337887</td>\n",
              "      <td>0.216200</td>\n",
              "      <td>0.323610</td>\n",
              "      <td>-0.197193</td>\n",
              "      <td>-0.194687</td>\n",
              "      <td>-0.266487</td>\n",
              "      <td>1.000000</td>\n",
              "      <td>0.368517</td>\n",
              "      <td>-0.320104</td>\n",
              "      <td>-0.161737</td>\n",
              "      <td>-0.315164</td>\n",
              "      <td>0.226305</td>\n",
              "      <td>-0.183792</td>\n",
              "      <td>0.222488</td>\n",
              "      <td>0.359571</td>\n",
              "      <td>0.364201</td>\n",
              "      <td>-0.274976</td>\n",
              "      <td>-0.329274</td>\n",
              "      <td>-0.130744</td>\n",
              "      <td>0.130744</td>\n",
              "    </tr>\n",
              "    <tr>\n",
              "      <th>under-five_deaths</th>\n",
              "      <td>-0.097158</td>\n",
              "      <td>-0.298626</td>\n",
              "      <td>0.168908</td>\n",
              "      <td>0.966996</td>\n",
              "      <td>-0.104954</td>\n",
              "      <td>-0.131361</td>\n",
              "      <td>-0.239049</td>\n",
              "      <td>0.368517</td>\n",
              "      <td>1.000000</td>\n",
              "      <td>-0.281667</td>\n",
              "      <td>-0.096826</td>\n",
              "      <td>-0.291057</td>\n",
              "      <td>0.198160</td>\n",
              "      <td>-0.102372</td>\n",
              "      <td>0.180288</td>\n",
              "      <td>0.235471</td>\n",
              "      <td>0.236927</td>\n",
              "      <td>-0.253539</td>\n",
              "      <td>-0.264996</td>\n",
              "      <td>-0.045339</td>\n",
              "      <td>0.045339</td>\n",
              "    </tr>\n",
              "    <tr>\n",
              "      <th>polio</th>\n",
              "      <td>0.118122</td>\n",
              "      <td>0.573291</td>\n",
              "      <td>-0.348198</td>\n",
              "      <td>-0.217511</td>\n",
              "      <td>0.265830</td>\n",
              "      <td>0.268385</td>\n",
              "      <td>0.608008</td>\n",
              "      <td>-0.320104</td>\n",
              "      <td>-0.281667</td>\n",
              "      <td>1.000000</td>\n",
              "      <td>0.164149</td>\n",
              "      <td>0.855849</td>\n",
              "      <td>-0.475611</td>\n",
              "      <td>0.309033</td>\n",
              "      <td>0.003618</td>\n",
              "      <td>-0.288660</td>\n",
              "      <td>-0.287206</td>\n",
              "      <td>0.515361</td>\n",
              "      <td>0.509788</td>\n",
              "      <td>0.265064</td>\n",
              "      <td>-0.265064</td>\n",
              "    </tr>\n",
              "    <tr>\n",
              "      <th>total_expenditure</th>\n",
              "      <td>0.131170</td>\n",
              "      <td>0.222306</td>\n",
              "      <td>-0.121052</td>\n",
              "      <td>-0.086289</td>\n",
              "      <td>0.308434</td>\n",
              "      <td>0.159830</td>\n",
              "      <td>0.071100</td>\n",
              "      <td>-0.161737</td>\n",
              "      <td>-0.096826</td>\n",
              "      <td>0.164149</td>\n",
              "      <td>1.000000</td>\n",
              "      <td>0.176715</td>\n",
              "      <td>-0.110629</td>\n",
              "      <td>0.146954</td>\n",
              "      <td>-0.105257</td>\n",
              "      <td>-0.285700</td>\n",
              "      <td>-0.294560</td>\n",
              "      <td>0.185535</td>\n",
              "      <td>0.259746</td>\n",
              "      <td>0.284829</td>\n",
              "      <td>-0.284829</td>\n",
              "    </tr>\n",
              "    <tr>\n",
              "      <th>diphtheria</th>\n",
              "      <td>0.150044</td>\n",
              "      <td>0.578952</td>\n",
              "      <td>-0.351136</td>\n",
              "      <td>-0.225997</td>\n",
              "      <td>0.272948</td>\n",
              "      <td>0.268411</td>\n",
              "      <td>0.647198</td>\n",
              "      <td>-0.315164</td>\n",
              "      <td>-0.291057</td>\n",
              "      <td>0.855849</td>\n",
              "      <td>0.176715</td>\n",
              "      <td>1.000000</td>\n",
              "      <td>-0.474643</td>\n",
              "      <td>0.290940</td>\n",
              "      <td>0.000104</td>\n",
              "      <td>-0.294792</td>\n",
              "      <td>-0.288930</td>\n",
              "      <td>0.516429</td>\n",
              "      <td>0.511045</td>\n",
              "      <td>0.267119</td>\n",
              "      <td>-0.267119</td>\n",
              "    </tr>\n",
              "    <tr>\n",
              "      <th>hiv/aids</th>\n",
              "      <td>-0.088913</td>\n",
              "      <td>-0.796939</td>\n",
              "      <td>0.596271</td>\n",
              "      <td>0.124310</td>\n",
              "      <td>-0.193443</td>\n",
              "      <td>-0.295791</td>\n",
              "      <td>-0.278977</td>\n",
              "      <td>0.226305</td>\n",
              "      <td>0.198160</td>\n",
              "      <td>-0.475611</td>\n",
              "      <td>-0.110629</td>\n",
              "      <td>-0.474643</td>\n",
              "      <td>1.000000</td>\n",
              "      <td>-0.335518</td>\n",
              "      <td>-0.062750</td>\n",
              "      <td>0.375062</td>\n",
              "      <td>0.357066</td>\n",
              "      <td>-0.598122</td>\n",
              "      <td>-0.557965</td>\n",
              "      <td>-0.290242</td>\n",
              "      <td>0.290242</td>\n",
              "    </tr>\n",
              "    <tr>\n",
              "      <th>gdp</th>\n",
              "      <td>0.148771</td>\n",
              "      <td>0.501011</td>\n",
              "      <td>-0.297774</td>\n",
              "      <td>-0.059337</td>\n",
              "      <td>0.389598</td>\n",
              "      <td>0.712940</td>\n",
              "      <td>0.172066</td>\n",
              "      <td>-0.183792</td>\n",
              "      <td>-0.102372</td>\n",
              "      <td>0.309033</td>\n",
              "      <td>0.146954</td>\n",
              "      <td>0.290940</td>\n",
              "      <td>-0.335518</td>\n",
              "      <td>1.000000</td>\n",
              "      <td>0.090051</td>\n",
              "      <td>-0.324997</td>\n",
              "      <td>-0.332025</td>\n",
              "      <td>0.588686</td>\n",
              "      <td>0.547028</td>\n",
              "      <td>0.434245</td>\n",
              "      <td>-0.434245</td>\n",
              "    </tr>\n",
              "    <tr>\n",
              "      <th>population</th>\n",
              "      <td>0.067801</td>\n",
              "      <td>0.011363</td>\n",
              "      <td>-0.000562</td>\n",
              "      <td>0.176352</td>\n",
              "      <td>-0.036283</td>\n",
              "      <td>-0.070366</td>\n",
              "      <td>-0.004936</td>\n",
              "      <td>0.222488</td>\n",
              "      <td>0.180288</td>\n",
              "      <td>0.003618</td>\n",
              "      <td>-0.105257</td>\n",
              "      <td>0.000104</td>\n",
              "      <td>-0.062750</td>\n",
              "      <td>0.090051</td>\n",
              "      <td>1.000000</td>\n",
              "      <td>0.092632</td>\n",
              "      <td>0.089661</td>\n",
              "      <td>0.023501</td>\n",
              "      <td>-0.008617</td>\n",
              "      <td>-0.058526</td>\n",
              "      <td>0.058526</td>\n",
              "    </tr>\n",
              "    <tr>\n",
              "      <th>thinness_1-19_years</th>\n",
              "      <td>-0.049728</td>\n",
              "      <td>-0.514966</td>\n",
              "      <td>0.332904</td>\n",
              "      <td>0.196669</td>\n",
              "      <td>-0.436755</td>\n",
              "      <td>-0.331693</td>\n",
              "      <td>-0.134103</td>\n",
              "      <td>0.359571</td>\n",
              "      <td>0.235471</td>\n",
              "      <td>-0.288660</td>\n",
              "      <td>-0.285700</td>\n",
              "      <td>-0.294792</td>\n",
              "      <td>0.375062</td>\n",
              "      <td>-0.324997</td>\n",
              "      <td>0.092632</td>\n",
              "      <td>1.000000</td>\n",
              "      <td>0.942034</td>\n",
              "      <td>-0.498683</td>\n",
              "      <td>-0.495019</td>\n",
              "      <td>-0.395916</td>\n",
              "      <td>0.395916</td>\n",
              "    </tr>\n",
              "    <tr>\n",
              "      <th>thinness_5-9_years</th>\n",
              "      <td>-0.050187</td>\n",
              "      <td>-0.512694</td>\n",
              "      <td>0.339266</td>\n",
              "      <td>0.202573</td>\n",
              "      <td>-0.427166</td>\n",
              "      <td>-0.333748</td>\n",
              "      <td>-0.139528</td>\n",
              "      <td>0.364201</td>\n",
              "      <td>0.236927</td>\n",
              "      <td>-0.287206</td>\n",
              "      <td>-0.294560</td>\n",
              "      <td>-0.288930</td>\n",
              "      <td>0.357066</td>\n",
              "      <td>-0.332025</td>\n",
              "      <td>0.089661</td>\n",
              "      <td>0.942034</td>\n",
              "      <td>1.000000</td>\n",
              "      <td>-0.488554</td>\n",
              "      <td>-0.486875</td>\n",
              "      <td>-0.396833</td>\n",
              "      <td>0.396833</td>\n",
              "    </tr>\n",
              "    <tr>\n",
              "      <th>income_composition_of_resources</th>\n",
              "      <td>0.224731</td>\n",
              "      <td>0.792878</td>\n",
              "      <td>-0.511340</td>\n",
              "      <td>-0.178389</td>\n",
              "      <td>0.475112</td>\n",
              "      <td>0.556006</td>\n",
              "      <td>0.299493</td>\n",
              "      <td>-0.274976</td>\n",
              "      <td>-0.253539</td>\n",
              "      <td>0.515361</td>\n",
              "      <td>0.185535</td>\n",
              "      <td>0.516429</td>\n",
              "      <td>-0.598122</td>\n",
              "      <td>0.588686</td>\n",
              "      <td>0.023501</td>\n",
              "      <td>-0.498683</td>\n",
              "      <td>-0.488554</td>\n",
              "      <td>1.000000</td>\n",
              "      <td>0.873588</td>\n",
              "      <td>0.510650</td>\n",
              "      <td>-0.510650</td>\n",
              "    </tr>\n",
              "    <tr>\n",
              "      <th>schooling</th>\n",
              "      <td>0.210745</td>\n",
              "      <td>0.742306</td>\n",
              "      <td>-0.450785</td>\n",
              "      <td>-0.191062</td>\n",
              "      <td>0.519757</td>\n",
              "      <td>0.530422</td>\n",
              "      <td>0.290399</td>\n",
              "      <td>-0.329274</td>\n",
              "      <td>-0.264996</td>\n",
              "      <td>0.509788</td>\n",
              "      <td>0.259746</td>\n",
              "      <td>0.511045</td>\n",
              "      <td>-0.557965</td>\n",
              "      <td>0.547028</td>\n",
              "      <td>-0.008617</td>\n",
              "      <td>-0.495019</td>\n",
              "      <td>-0.486875</td>\n",
              "      <td>0.873588</td>\n",
              "      <td>1.000000</td>\n",
              "      <td>0.508211</td>\n",
              "      <td>-0.508211</td>\n",
              "    </tr>\n",
              "    <tr>\n",
              "      <th>Developed</th>\n",
              "      <td>-0.001864</td>\n",
              "      <td>0.483121</td>\n",
              "      <td>-0.310207</td>\n",
              "      <td>-0.011644</td>\n",
              "      <td>0.580249</td>\n",
              "      <td>0.420621</td>\n",
              "      <td>0.108121</td>\n",
              "      <td>-0.130744</td>\n",
              "      <td>-0.045339</td>\n",
              "      <td>0.265064</td>\n",
              "      <td>0.284829</td>\n",
              "      <td>0.267119</td>\n",
              "      <td>-0.290242</td>\n",
              "      <td>0.434245</td>\n",
              "      <td>-0.058526</td>\n",
              "      <td>-0.395916</td>\n",
              "      <td>-0.396833</td>\n",
              "      <td>0.510650</td>\n",
              "      <td>0.508211</td>\n",
              "      <td>1.000000</td>\n",
              "      <td>-1.000000</td>\n",
              "    </tr>\n",
              "    <tr>\n",
              "      <th>Developing</th>\n",
              "      <td>0.001864</td>\n",
              "      <td>-0.483121</td>\n",
              "      <td>0.310207</td>\n",
              "      <td>0.011644</td>\n",
              "      <td>-0.580249</td>\n",
              "      <td>-0.420621</td>\n",
              "      <td>-0.108121</td>\n",
              "      <td>0.130744</td>\n",
              "      <td>0.045339</td>\n",
              "      <td>-0.265064</td>\n",
              "      <td>-0.284829</td>\n",
              "      <td>-0.267119</td>\n",
              "      <td>0.290242</td>\n",
              "      <td>-0.434245</td>\n",
              "      <td>0.058526</td>\n",
              "      <td>0.395916</td>\n",
              "      <td>0.396833</td>\n",
              "      <td>-0.510650</td>\n",
              "      <td>-0.508211</td>\n",
              "      <td>-1.000000</td>\n",
              "      <td>1.000000</td>\n",
              "    </tr>\n",
              "  </tbody>\n",
              "</table>\n",
              "</div>"
            ],
            "text/plain": [
              "                                     year  ...  Developing\n",
              "year                             1.000000  ...    0.001864\n",
              "life_expectancy                  0.169796  ...   -0.483121\n",
              "adult_mortality                 -0.074960  ...    0.310207\n",
              "infant_deaths                   -0.077173  ...    0.011644\n",
              "alcohol                         -0.031642  ...   -0.580249\n",
              "percentage_expenditure           0.032807  ...   -0.420621\n",
              "hepatitis_b                      0.203759  ...   -0.108121\n",
              "measles                         -0.118772  ...    0.130744\n",
              "under-five_deaths               -0.097158  ...    0.045339\n",
              "polio                            0.118122  ...   -0.265064\n",
              "total_expenditure                0.131170  ...   -0.284829\n",
              "diphtheria                       0.150044  ...   -0.267119\n",
              "hiv/aids                        -0.088913  ...    0.290242\n",
              "gdp                              0.148771  ...   -0.434245\n",
              "population                       0.067801  ...    0.058526\n",
              "thinness_1-19_years             -0.049728  ...    0.395916\n",
              "thinness_5-9_years              -0.050187  ...    0.396833\n",
              "income_composition_of_resources  0.224731  ...   -0.510650\n",
              "schooling                        0.210745  ...   -0.508211\n",
              "Developed                       -0.001864  ...   -1.000000\n",
              "Developing                       0.001864  ...    1.000000\n",
              "\n",
              "[21 rows x 21 columns]"
            ]
          },
          "metadata": {
            "tags": []
          },
          "execution_count": 81
        }
      ]
    },
    {
      "cell_type": "code",
      "metadata": {
        "id": "dc12xwj7Cmba",
        "colab_type": "code",
        "outputId": "1548b61a-7626-427e-8576-a168b9140193",
        "colab": {
          "base_uri": "https://localhost:8080/",
          "height": 1000
        }
      },
      "source": [
        "import seaborn as sns\n",
        "def feat_heatmap():\n",
        "    mask = np.triu(df.corr())\n",
        "    plt.figure(figsize=(25,15))\n",
        "    sns.heatmap(df.corr(), annot=True, fmt='.2g', vmin=-1, vmax=1, center=0, cmap='coolwarm', mask=mask)\n",
        "    plt.ylim(len(df.columns), 0)\n",
        "    plt.title('Features Correlation Matrix Heatmap')\n",
        "    plt.show()\n",
        "feat_heatmap()"
      ],
      "execution_count": 0,
      "outputs": [
        {
          "output_type": "display_data",
          "data": {
            "image/png": "[encoded data removed]",
            "text/plain": [
              "<Figure size 1800x1080 with 2 Axes>"
            ]
          },
          "metadata": {
            "tags": []
          }
        }
      ]
    },
    {
      "cell_type": "markdown",
      "metadata": {
        "id": "Spj3DYVMwAuC",
        "colab_type": "text"
      },
      "source": [
        "<p>The above heatmap is very useful! It very easily displays a number of important correlations between variables. Some general takeaways from the graphic above:\n",
        "\n",
        "<h3><b>Q1 How does adulat and infant mortality rate affect the life Expectancy?</b></h3>\n",
        "<p>Life Expectancy (target variable) appears to be negatively highly correlated  with Adult Mortality having correlation of approx -0.7, which means lower the adult mortality rate higher the life expectancy</p>\n",
        "<p>Infant-deaths has correlation of -0.07 with life expectancy which seems to be negligible.</p>\n",
        "<p> But, Infant Deaths-Under Five Deaths are highly correlated( correlation=0.92)AND Under Five Deaths is more highly correlated with life expectancy. Hence, Infant Deaths column is to be dropped from the dataframe </p>\n",
        "\n",
        "<h3><b>Q2 How does schooling affect the life Expectancy?</b></h3>\n",
        "<p>Life Expectancy (target variable) appears to be positively highly correlated with schooling, which means educated people will have more life expectancy.\n",
        "\n",
        "\n"
      ]
    },
    {
      "cell_type": "code",
      "metadata": {
        "id": "MubWTatHnQH1",
        "colab_type": "code",
        "colab": {}
      },
      "source": [
        "df.drop(columns=['infant_deaths',], inplace=True)"
      ],
      "execution_count": 0,
      "outputs": []
    },
    {
      "cell_type": "markdown",
      "metadata": {
        "id": "M-zLXTmelMg4",
        "colab_type": "text"
      },
      "source": [
        "<h4>Other insights of the correlation between different variables from the heat map</h4>\n",
        "<ul>\n",
        "<li>Life Expectancy (target variable) appears to be relatively highly correlated with HIV/AIDS (negative)</li>\n",
        "<li>Life Expectancy (target variable) appears to be relatively highly correlated with Income Composition of Resources (positive)</li>\n",
        "<li>Life expectancy (target variable) is extremely lowly correlated to population (nearly no correlation at all). Hence</li>\n",
        "<li> The categorical columns, 'year' and 'country' will be dropped as they don't have significant differences among life expectancy.</li>\n",
        "</ul></p>\n",
        "<p>There are a number of variables that are very or extremely highly correlated with one another. In those cases, the variable which is most highly correlated to Life Expectancy (target variable) will be kept while the others will be dismissed.</p>\n",
        "<p>The following are very/extremely highly correlated (correlation > .7 or correlation < -.7):\n",
        "<ul>\n",
        "<li>Infant Deaths-Under Five Deaths (drop Infant Deaths - Under Five Deaths is more highly correlated to Life Expectancy)</li>\n",
        "<li>GDP-Percentage Expenditure (drop Percentage Expenditure - GDP is more higher correlated to Life Expectancy)\n",
        "<li>Polio-Diphtheria (drop Polio - Diphtheria is more highly correlated to Life Expectancy)</li>\n",
        "<li>Thinness 5-9-Thinness 1-19 (drop Thinness 10-19 as correlations to other variables are slightly higher)</li>\n",
        "<li>Income Composition of Resources-Schooling (drop Schooling - Income Composition of Resources is more highly correlated with Life Expectancy)</li>\n",
        "\n"
      ]
    },
    {
      "cell_type": "code",
      "metadata": {
        "id": "jZenVQ_3lERW",
        "colab_type": "code",
        "colab": {}
      },
      "source": [
        "df.drop(columns=['percentage_expenditure','polio','thinness_1-19_years','schooling','population','country','year'], inplace=True)"
      ],
      "execution_count": 0,
      "outputs": []
    },
    {
      "cell_type": "markdown",
      "metadata": {
        "id": "3jssglGNixn-",
        "colab_type": "text"
      },
      "source": [
        "<h3><b>Q3.  Is there any difference between the life expectancy of Develped and Developing countries?</b></h3>\n",
        "<p>According to map above it can be seen that, correlation of 'Developing Countries' and 'Developed Coutries' have same value but are opposite in signs Hence we can say that Developed countries has more Life Expectancy than Developing Countries. </p>"
      ]
    },
    {
      "cell_type": "code",
      "metadata": {
        "id": "YVYGOpQIC9rl",
        "colab_type": "code",
        "colab": {}
      },
      "source": [
        "#Dropping the columns that are not useful for building our model\n",
        "df.drop(columns=['Developing'], inplace=True)"
      ],
      "execution_count": 0,
      "outputs": []
    },
    {
      "cell_type": "markdown",
      "metadata": {
        "id": "kYewx_DQRdTR",
        "colab_type": "text"
      },
      "source": [
        "<h3><b>Q4. Predicting Variables that are actually effecting life expectancy are:</b>"
      ]
    },
    {
      "cell_type": "code",
      "metadata": {
        "id": "La61GRxBC9yq",
        "colab_type": "code",
        "outputId": "575f75ec-30b3-47d9-d49d-663e37799363",
        "colab": {
          "base_uri": "https://localhost:8080/",
          "height": 261
        }
      },
      "source": [
        "print(\"The prdicting features for the life expectancy are:\\n\")\n",
        "for col in df.columns:\n",
        "  print(col)"
      ],
      "execution_count": 0,
      "outputs": [
        {
          "output_type": "stream",
          "text": [
            "The prdicting features for the life expectancy are:\n",
            "\n",
            "life_expectancy\n",
            "adult_mortality\n",
            "alcohol\n",
            "hepatitis_b\n",
            "measles\n",
            "under-five_deaths\n",
            "total_expenditure\n",
            "diphtheria\n",
            "hiv/aids\n",
            "gdp\n",
            "thinness_5-9_years\n",
            "income_composition_of_resources\n",
            "Developed\n"
          ],
          "name": "stdout"
        }
      ]
    },
    {
      "cell_type": "markdown",
      "metadata": {
        "id": "mH_O5uKMhsuk",
        "colab_type": "text"
      },
      "source": [
        "<h2> Predicting the Life Expectancy</h2>\n",
        "<p> Now we are done with rhe data cleaning part, and have all the variables that are related to life expectancy.</p><p> We are ready to build our Linear Regression model ro predict the life expectancy"
      ]
    },
    {
      "cell_type": "code",
      "metadata": {
        "id": "WtNsosyEC9-J",
        "colab_type": "code",
        "colab": {}
      },
      "source": [
        "X= df.drop('life_expectancy',axis=1)\n",
        "y=df['life_expectancy']\n",
        "\n"
      ],
      "execution_count": 0,
      "outputs": []
    },
    {
      "cell_type": "markdown",
      "metadata": {
        "id": "mNsGq4v2kxXB",
        "colab_type": "text"
      },
      "source": [
        "<h3><b>Q5. Building the regression model to predict life expectancy</b></h3>"
      ]
    },
    {
      "cell_type": "code",
      "metadata": {
        "id": "UksUjlcaC-Eg",
        "colab_type": "code",
        "outputId": "316e4b2b-5ac2-46cb-b32a-66946ba2aa28",
        "colab": {
          "base_uri": "https://localhost:8080/",
          "height": 50
        }
      },
      "source": [
        "# splitting data into traing and test sets\n",
        "X_train,X_test,y_train,y_test= train_test_split(X,y,test_size=.2, random_state=42)\n",
        "\n",
        "#Instantiate\n",
        "model=LinearRegression()\n",
        "\n",
        "# fit the model\n",
        "model.fit(X_train,y_train)\n",
        "\n",
        "# predictt the model using x_test\n",
        "pred_test= model.predict(X_test)\n",
        "\n",
        "# Score the model\n",
        "test_score= r2_score(y_test,pred_test)\n",
        "\n",
        "# mean asquared error\n",
        "mae= mean_squared_error(y_test,pred_test)\n",
        "\n",
        "print(\"Rsquare: {} \\n Mean squared error: {}\".format(round(test_score,2), round(mae,2)))"
      ],
      "execution_count": 0,
      "outputs": [
        {
          "output_type": "stream",
          "text": [
            "Rsquare: 0.84 \n",
            " Mean squared error: 14.23\n"
          ],
          "name": "stdout"
        }
      ]
    },
    {
      "cell_type": "code",
      "metadata": {
        "id": "QGwWxr3_d9lv",
        "colab_type": "code",
        "colab": {}
      },
      "source": [
        ""
      ],
      "execution_count": 0,
      "outputs": []
    }
  ]
}